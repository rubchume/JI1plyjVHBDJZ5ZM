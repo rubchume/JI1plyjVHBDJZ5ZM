{
 "cells": [
  {
   "cell_type": "markdown",
   "id": "0fdbaa1a-7342-4807-8536-90fc682b77ea",
   "metadata": {},
   "source": [
    "# Imports"
   ]
  },
  {
   "cell_type": "code",
   "execution_count": 1,
   "id": "21a1360d-c3ed-4809-afb0-f541429958da",
   "metadata": {
    "tags": []
   },
   "outputs": [],
   "source": [
    "from abc import ABC, abstractmethod\n",
    "from enum import Enum\n",
    "from typing import Callable, Iterable, List\n",
    "\n",
    "from gensim.models import KeyedVectors, Word2Vec\n",
    "from gensim.utils import simple_preprocess\n",
    "import nltk\n",
    "from nltk.corpus import stopwords\n",
    "from nltk.stem import WordNetLemmatizer\n",
    "import numpy as np\n",
    "from numpy.linalg import norm\n",
    "import pandas as pd\n",
    "from pyxtension.streams import stream\n",
    "from sklearn.base import BaseEstimator\n",
    "\n",
    "\n",
    "pd.set_option('display.max_rows', 500)"
   ]
  },
  {
   "cell_type": "markdown",
   "id": "83704478-2709-4b4d-920c-350f7d55b8a3",
   "metadata": {},
   "source": [
    "# Data Exploration"
   ]
  },
  {
   "cell_type": "code",
   "execution_count": 2,
   "id": "c3d94188-222f-4383-bd26-3cba5dc9121c",
   "metadata": {
    "tags": []
   },
   "outputs": [
    {
     "name": "stdout",
     "output_type": "stream",
     "text": [
      "Shape: (104, 4)\n"
     ]
    },
    {
     "data": {
      "text/html": [
       "<div>\n",
       "<style scoped>\n",
       "    .dataframe tbody tr th:only-of-type {\n",
       "        vertical-align: middle;\n",
       "    }\n",
       "\n",
       "    .dataframe tbody tr th {\n",
       "        vertical-align: top;\n",
       "    }\n",
       "\n",
       "    .dataframe thead th {\n",
       "        text-align: right;\n",
       "    }\n",
       "</style>\n",
       "<table border=\"1\" class=\"dataframe\">\n",
       "  <thead>\n",
       "    <tr style=\"text-align: right;\">\n",
       "      <th></th>\n",
       "      <th>job_title</th>\n",
       "      <th>location</th>\n",
       "      <th>connection</th>\n",
       "      <th>fit</th>\n",
       "    </tr>\n",
       "    <tr>\n",
       "      <th>id</th>\n",
       "      <th></th>\n",
       "      <th></th>\n",
       "      <th></th>\n",
       "      <th></th>\n",
       "    </tr>\n",
       "  </thead>\n",
       "  <tbody>\n",
       "    <tr>\n",
       "      <th>1</th>\n",
       "      <td>2019 C.T. Bauer College of Business Graduate (...</td>\n",
       "      <td>Houston, Texas</td>\n",
       "      <td>85</td>\n",
       "      <td>NaN</td>\n",
       "    </tr>\n",
       "    <tr>\n",
       "      <th>2</th>\n",
       "      <td>Native English Teacher at EPIK (English Progra...</td>\n",
       "      <td>Kanada</td>\n",
       "      <td>500+</td>\n",
       "      <td>NaN</td>\n",
       "    </tr>\n",
       "    <tr>\n",
       "      <th>3</th>\n",
       "      <td>Aspiring Human Resources Professional</td>\n",
       "      <td>Raleigh-Durham, North Carolina Area</td>\n",
       "      <td>44</td>\n",
       "      <td>NaN</td>\n",
       "    </tr>\n",
       "    <tr>\n",
       "      <th>4</th>\n",
       "      <td>People Development Coordinator at Ryan</td>\n",
       "      <td>Denton, Texas</td>\n",
       "      <td>500+</td>\n",
       "      <td>NaN</td>\n",
       "    </tr>\n",
       "    <tr>\n",
       "      <th>5</th>\n",
       "      <td>Advisory Board Member at Celal Bayar University</td>\n",
       "      <td>İzmir, Türkiye</td>\n",
       "      <td>500+</td>\n",
       "      <td>NaN</td>\n",
       "    </tr>\n",
       "  </tbody>\n",
       "</table>\n",
       "</div>"
      ],
      "text/plain": [
       "                                            job_title   \n",
       "id                                                      \n",
       "1   2019 C.T. Bauer College of Business Graduate (...  \\\n",
       "2   Native English Teacher at EPIK (English Progra...   \n",
       "3               Aspiring Human Resources Professional   \n",
       "4              People Development Coordinator at Ryan   \n",
       "5     Advisory Board Member at Celal Bayar University   \n",
       "\n",
       "                               location connection  fit  \n",
       "id                                                       \n",
       "1                        Houston, Texas         85  NaN  \n",
       "2                                Kanada      500+   NaN  \n",
       "3   Raleigh-Durham, North Carolina Area         44  NaN  \n",
       "4                         Denton, Texas      500+   NaN  \n",
       "5                        İzmir, Türkiye      500+   NaN  "
      ]
     },
     "execution_count": 2,
     "metadata": {},
     "output_type": "execute_result"
    }
   ],
   "source": [
    "data_file = \"potential-talents - Aspiring human resources - seeking human resources.csv\"\n",
    "\n",
    "df = pd.read_csv(data_file, index_col=\"id\")\n",
    "print(f\"Shape: {df.shape}\")\n",
    "df.head()"
   ]
  },
  {
   "cell_type": "markdown",
   "id": "bde2971f-c016-4a90-820d-878c7dc2c052",
   "metadata": {},
   "source": [
    "# Data Cleansing\n",
    "\n",
    "Remove stopwords and lemmatize"
   ]
  },
  {
   "cell_type": "code",
   "execution_count": 3,
   "id": "c0dcc98b-69c7-4c1a-9994-3ee7fedd88fd",
   "metadata": {
    "tags": []
   },
   "outputs": [],
   "source": [
    "acronyms = {\n",
    "    \"HRIS\": \"human resources information system\",\n",
    "    \"CHRO\": \"chief human resources officer\",\n",
    "    \"GPHR\": \"Global Professional in Human Resources\",\n",
    "    \"SPHR\": \"Senior Professional in Human Resources\",\n",
    "    \"HR\": \"Human Resources\",\n",
    "    \"CSR\": \"Corporate Social Responsibility\",\n",
    "}\n",
    "\n",
    "\n",
    "def preprocess_sentence(sentence):\n",
    "    for acronym, full_form in acronyms.items():\n",
    "        sentence = sentence.replace(acronym, full_form)\n",
    "    \n",
    "    return (\n",
    "        stream(simple_preprocess(sentence))\n",
    "        .filter(lambda word: word not in stopwords.words('english'))\n",
    "        .map(WordNetLemmatizer().lemmatize)\n",
    "        .toList()\n",
    "    )"
   ]
  },
  {
   "cell_type": "markdown",
   "id": "02355a30-8db9-42ba-aa96-a40f660ff9db",
   "metadata": {},
   "source": [
    "# Word embedding"
   ]
  },
  {
   "cell_type": "markdown",
   "id": "ad5af213-2385-4689-be47-f3489e2f85f8",
   "metadata": {},
   "source": [
    "![Candidate ranker diagram](CandidateRankerDiagram.svg)"
   ]
  },
  {
   "cell_type": "code",
   "execution_count": 4,
   "id": "4fe25cb0-ae4c-4fb9-81f3-094ae076b356",
   "metadata": {
    "tags": []
   },
   "outputs": [],
   "source": [
    "class WordEmbedder(ABC):\n",
    "    @abstractmethod\n",
    "    def fit(self, tokenized_sentences: Iterable[List[str]]):\n",
    "        pass\n",
    "    \n",
    "    @abstractmethod\n",
    "    def predict(self, word) -> np.array:\n",
    "        \"\"\"Calculates the word vector\"\"\"\n",
    "    \n",
    "    @abstractmethod\n",
    "    def word_sets_similarity(self, word_set_1: List[str], word_set_2: List[str]) -> float:\n",
    "        \"\"\"Calculates the similarity between two word sets\"\"\"\n",
    "\n",
    "        \n",
    "class MeanVectorCosineSimilarityMixin:\n",
    "    def word_sets_similarity(self, word_set_1: List[str], word_set_2: List[str]) -> float:\n",
    "        return self._cosine_similarity(\n",
    "            vector_1=self._get_word_set_embedding(word_set_1),\n",
    "            vector_2=self._get_word_set_embedding(word_set_2)\n",
    "        )\n",
    "    \n",
    "    def _get_word_set_embedding(self, word_set: List[str]) -> np.array:\n",
    "        return np.mean([\n",
    "            self.predict(word)\n",
    "            for word in word_set\n",
    "        ], axis=0)\n",
    "    \n",
    "    @staticmethod\n",
    "    def _cosine_similarity(vector_1, vector_2):\n",
    "        return vector_1.dot(vector_2) / (norm(vector_1) * norm(vector_2))\n",
    "    \n",
    "    \n",
    "class CandidateRanker:\n",
    "    def __init__(self, tokenize_sentence: Callable[str, List[str]], word_embedding_model: WordEmbedder, fit_word_embedding: bool = False):\n",
    "        self.tokenize_sentence = tokenize_sentence\n",
    "        self.word_embedding_model = word_embedding_model\n",
    "        self.fit_word_embedding = fit_word_embedding\n",
    "        \n",
    "    def fit(self, sentences: pd.Series):\n",
    "        self.sentences = sentences\n",
    "        self.tokenized_sentences = sentences.map(self.tokenize_sentence)\n",
    "        \n",
    "        if self.fit_word_embedding:\n",
    "            self.word_embedding_model.fit(self.tokenized_sentences)\n",
    "            \n",
    "        return self\n",
    "        \n",
    "    def predict(self, search):\n",
    "        search_words = self.tokenize_sentence(search)\n",
    "        \n",
    "        similarities = self.tokenized_sentences.map(\n",
    "            lambda sentence_words: self.word_embedding_model.word_sets_similarity(sentence_words, search_words)\n",
    "        ).sort_values(ascending=False)\n",
    "\n",
    "        return pd.DataFrame(dict(title=self.sentences.reindex_like(similarities), score=similarities))"
   ]
  },
  {
   "cell_type": "markdown",
   "id": "ec7e1f7c-55b0-45aa-9518-980a38257061",
   "metadata": {},
   "source": [
    "## Word2Vec"
   ]
  },
  {
   "cell_type": "markdown",
   "id": "fe184a51-ecf9-4dea-b6e6-67c2601ad999",
   "metadata": {},
   "source": [
    "Encode job titles with Word2Vec model"
   ]
  },
  {
   "cell_type": "code",
   "execution_count": 5,
   "id": "9abb8314-6b91-4b2e-82cf-d5f60d7fd721",
   "metadata": {
    "tags": []
   },
   "outputs": [],
   "source": [
    "class Word2VecType(Enum):\n",
    "    CBOW = 0\n",
    "    SKIP_GRAM = 1\n",
    "    \n",
    "    \n",
    "class Word2VecEmbedder(WordEmbedder):\n",
    "    def __init__(self, *, vector_size=100, window=5, min_count=1, sg=Word2VecType.SKIP_GRAM.value, epochs=10, **kwargs):\n",
    "        self.word_2_vec_hyperparametrs = dict(\n",
    "            vector_size=vector_size,\n",
    "            window=window,\n",
    "            min_count=min_count,\n",
    "            sg=sg,\n",
    "            epochs=epochs,\n",
    "            **kwargs\n",
    "        )\n",
    "        \n",
    "    def fit(self, tokenized_sentences):\n",
    "        self.model = Word2Vec(**self.word_2_vec_hyperparametrs)\n",
    "        self.model.build_vocab(tokenized_sentences)\n",
    "        self.model.train(tokenized_sentences, total_examples=len(tokenized_sentences), epochs=self.model.epochs)\n",
    "        return self\n",
    "        \n",
    "    def predict(self, word):\n",
    "        return self.model.wv[word] if word in self.model.wv.index_to_key else np.zeros(self.model.vector_size)\n",
    "    \n",
    "    def word_sets_similarity(self, word_set_1: List[str], word_set_2: List[str]) -> float:\n",
    "        return self.model.wv.n_similarity(word_set_1, word_set_2)\n",
    "    "
   ]
  },
  {
   "cell_type": "code",
   "execution_count": 6,
   "id": "c437512b-4db5-41a5-b78b-13ade6f858d7",
   "metadata": {
    "tags": []
   },
   "outputs": [],
   "source": [
    "word_2_vec_embedder = Word2VecEmbedder(window=5, min_count=1).fit(df.job_title.map(preprocess_sentence))\n",
    "word_2_vec_ranker = CandidateRanker(preprocess_sentence, word_2_vec_embedder).fit(df.job_title)"
   ]
  },
  {
   "cell_type": "code",
   "execution_count": 7,
   "id": "c74f0ab0-ca1e-4185-8ef6-4c7047c8ac58",
   "metadata": {
    "tags": []
   },
   "outputs": [
    {
     "data": {
      "text/html": [
       "<div>\n",
       "<style scoped>\n",
       "    .dataframe tbody tr th:only-of-type {\n",
       "        vertical-align: middle;\n",
       "    }\n",
       "\n",
       "    .dataframe tbody tr th {\n",
       "        vertical-align: top;\n",
       "    }\n",
       "\n",
       "    .dataframe thead th {\n",
       "        text-align: right;\n",
       "    }\n",
       "</style>\n",
       "<table border=\"1\" class=\"dataframe\">\n",
       "  <thead>\n",
       "    <tr style=\"text-align: right;\">\n",
       "      <th></th>\n",
       "      <th>title</th>\n",
       "      <th>score</th>\n",
       "    </tr>\n",
       "    <tr>\n",
       "      <th>id</th>\n",
       "      <th></th>\n",
       "      <th></th>\n",
       "    </tr>\n",
       "  </thead>\n",
       "  <tbody>\n",
       "    <tr>\n",
       "      <th>21</th>\n",
       "      <td>Aspiring Human Resources Professional</td>\n",
       "      <td>0.983534</td>\n",
       "    </tr>\n",
       "    <tr>\n",
       "      <th>58</th>\n",
       "      <td>Aspiring Human Resources Professional</td>\n",
       "      <td>0.983534</td>\n",
       "    </tr>\n",
       "    <tr>\n",
       "      <th>3</th>\n",
       "      <td>Aspiring Human Resources Professional</td>\n",
       "      <td>0.983534</td>\n",
       "    </tr>\n",
       "    <tr>\n",
       "      <th>17</th>\n",
       "      <td>Aspiring Human Resources Professional</td>\n",
       "      <td>0.983534</td>\n",
       "    </tr>\n",
       "    <tr>\n",
       "      <th>46</th>\n",
       "      <td>Aspiring Human Resources Professional</td>\n",
       "      <td>0.983534</td>\n",
       "    </tr>\n",
       "  </tbody>\n",
       "</table>\n",
       "</div>"
      ],
      "text/plain": [
       "                                    title     score\n",
       "id                                                 \n",
       "21  Aspiring Human Resources Professional  0.983534\n",
       "58  Aspiring Human Resources Professional  0.983534\n",
       "3   Aspiring Human Resources Professional  0.983534\n",
       "17  Aspiring Human Resources Professional  0.983534\n",
       "46  Aspiring Human Resources Professional  0.983534"
      ]
     },
     "execution_count": 7,
     "metadata": {},
     "output_type": "execute_result"
    }
   ],
   "source": [
    "word_2_vec_ranker.predict(\"Aspiring human resources\").head()"
   ]
  },
  {
   "cell_type": "code",
   "execution_count": 8,
   "id": "29621734-05eb-415d-9ee9-6c2dae8058b3",
   "metadata": {
    "tags": []
   },
   "outputs": [
    {
     "data": {
      "text/html": [
       "<div>\n",
       "<style scoped>\n",
       "    .dataframe tbody tr th:only-of-type {\n",
       "        vertical-align: middle;\n",
       "    }\n",
       "\n",
       "    .dataframe tbody tr th {\n",
       "        vertical-align: top;\n",
       "    }\n",
       "\n",
       "    .dataframe thead th {\n",
       "        text-align: right;\n",
       "    }\n",
       "</style>\n",
       "<table border=\"1\" class=\"dataframe\">\n",
       "  <thead>\n",
       "    <tr style=\"text-align: right;\">\n",
       "      <th></th>\n",
       "      <th>title</th>\n",
       "      <th>score</th>\n",
       "    </tr>\n",
       "    <tr>\n",
       "      <th>id</th>\n",
       "      <th></th>\n",
       "      <th></th>\n",
       "    </tr>\n",
       "  </thead>\n",
       "  <tbody>\n",
       "    <tr>\n",
       "      <th>28</th>\n",
       "      <td>Seeking Human Resources Opportunities</td>\n",
       "      <td>0.985770</td>\n",
       "    </tr>\n",
       "    <tr>\n",
       "      <th>30</th>\n",
       "      <td>Seeking Human Resources Opportunities</td>\n",
       "      <td>0.985770</td>\n",
       "    </tr>\n",
       "    <tr>\n",
       "      <th>73</th>\n",
       "      <td>Aspiring Human Resources Manager, seeking inte...</td>\n",
       "      <td>0.985069</td>\n",
       "    </tr>\n",
       "    <tr>\n",
       "      <th>99</th>\n",
       "      <td>Seeking Human Resources Position</td>\n",
       "      <td>0.984148</td>\n",
       "    </tr>\n",
       "    <tr>\n",
       "      <th>53</th>\n",
       "      <td>Seeking Human Resources HRIS and Generalist Po...</td>\n",
       "      <td>0.978527</td>\n",
       "    </tr>\n",
       "  </tbody>\n",
       "</table>\n",
       "</div>"
      ],
      "text/plain": [
       "                                                title     score\n",
       "id                                                             \n",
       "28              Seeking Human Resources Opportunities  0.985770\n",
       "30              Seeking Human Resources Opportunities  0.985770\n",
       "73  Aspiring Human Resources Manager, seeking inte...  0.985069\n",
       "99                   Seeking Human Resources Position  0.984148\n",
       "53  Seeking Human Resources HRIS and Generalist Po...  0.978527"
      ]
     },
     "execution_count": 8,
     "metadata": {},
     "output_type": "execute_result"
    }
   ],
   "source": [
    "word_2_vec_ranker.predict(\"seeking human resources\").head()"
   ]
  },
  {
   "cell_type": "markdown",
   "id": "5a92107f-915c-47b5-8891-5683396269a9",
   "metadata": {},
   "source": [
    "## FastText pretrained embedder"
   ]
  },
  {
   "cell_type": "code",
   "execution_count": 9,
   "id": "46bd5682-4731-449f-abe5-7d1f0d8ef079",
   "metadata": {
    "tags": []
   },
   "outputs": [],
   "source": [
    "class PretrainedEmbedder(MeanVectorCosineSimilarityMixin, WordEmbedder):\n",
    "    def __init__(self, model_path: str):\n",
    "        self.model = KeyedVectors.load_word2vec_format(model_path, binary=False)\n",
    "        \n",
    "    def fit(self, tokenized_sentences):\n",
    "        return self\n",
    "        \n",
    "    def predict(self, word):\n",
    "        if word in self.model:\n",
    "            return self.model[word]\n",
    "        else:\n",
    "            return np.zeros(self.model.vector_size)"
   ]
  },
  {
   "cell_type": "code",
   "execution_count": 10,
   "id": "97a48f44-fcfc-48b1-ba37-a478fa413183",
   "metadata": {
    "tags": []
   },
   "outputs": [],
   "source": [
    "model_path = \"C:\\\\Users\\\\chana\\\\Downloads\\\\wiki-news-300d-1M.vec\\\\wiki-news-300d-1M.vec\"\n",
    "fast_text_embedder = PretrainedEmbedder(model_path)\n"
   ]
  },
  {
   "cell_type": "code",
   "execution_count": 11,
   "id": "5b987b93-54d6-4b22-9b1f-8f49ce2d5ab1",
   "metadata": {
    "tags": []
   },
   "outputs": [],
   "source": [
    "fast_text_ranker = CandidateRanker(preprocess_sentence, fast_text_embedder).fit(df.job_title)"
   ]
  },
  {
   "cell_type": "code",
   "execution_count": 14,
   "id": "d9bd06ab-0e51-46ea-847d-3bcf4d03521e",
   "metadata": {
    "tags": []
   },
   "outputs": [
    {
     "data": {
      "text/html": [
       "<div>\n",
       "<style scoped>\n",
       "    .dataframe tbody tr th:only-of-type {\n",
       "        vertical-align: middle;\n",
       "    }\n",
       "\n",
       "    .dataframe tbody tr th {\n",
       "        vertical-align: top;\n",
       "    }\n",
       "\n",
       "    .dataframe thead th {\n",
       "        text-align: right;\n",
       "    }\n",
       "</style>\n",
       "<table border=\"1\" class=\"dataframe\">\n",
       "  <thead>\n",
       "    <tr style=\"text-align: right;\">\n",
       "      <th></th>\n",
       "      <th>title</th>\n",
       "      <th>score</th>\n",
       "    </tr>\n",
       "    <tr>\n",
       "      <th>id</th>\n",
       "      <th></th>\n",
       "      <th></th>\n",
       "    </tr>\n",
       "  </thead>\n",
       "  <tbody>\n",
       "    <tr>\n",
       "      <th>58</th>\n",
       "      <td>Aspiring Human Resources Professional</td>\n",
       "      <td>0.968588</td>\n",
       "    </tr>\n",
       "    <tr>\n",
       "      <th>3</th>\n",
       "      <td>Aspiring Human Resources Professional</td>\n",
       "      <td>0.968588</td>\n",
       "    </tr>\n",
       "    <tr>\n",
       "      <th>46</th>\n",
       "      <td>Aspiring Human Resources Professional</td>\n",
       "      <td>0.968588</td>\n",
       "    </tr>\n",
       "    <tr>\n",
       "      <th>33</th>\n",
       "      <td>Aspiring Human Resources Professional</td>\n",
       "      <td>0.968588</td>\n",
       "    </tr>\n",
       "    <tr>\n",
       "      <th>17</th>\n",
       "      <td>Aspiring Human Resources Professional</td>\n",
       "      <td>0.968588</td>\n",
       "    </tr>\n",
       "  </tbody>\n",
       "</table>\n",
       "</div>"
      ],
      "text/plain": [
       "                                    title     score\n",
       "id                                                 \n",
       "58  Aspiring Human Resources Professional  0.968588\n",
       "3   Aspiring Human Resources Professional  0.968588\n",
       "46  Aspiring Human Resources Professional  0.968588\n",
       "33  Aspiring Human Resources Professional  0.968588\n",
       "17  Aspiring Human Resources Professional  0.968588"
      ]
     },
     "execution_count": 14,
     "metadata": {},
     "output_type": "execute_result"
    }
   ],
   "source": [
    "fast_text_ranker.predict(\"Aspiring human resources\").head()"
   ]
  },
  {
   "cell_type": "code",
   "execution_count": 13,
   "id": "6424a44f-52d1-4814-9cb3-04b14fe6620d",
   "metadata": {
    "tags": []
   },
   "outputs": [
    {
     "data": {
      "text/html": [
       "<div>\n",
       "<style scoped>\n",
       "    .dataframe tbody tr th:only-of-type {\n",
       "        vertical-align: middle;\n",
       "    }\n",
       "\n",
       "    .dataframe tbody tr th {\n",
       "        vertical-align: top;\n",
       "    }\n",
       "\n",
       "    .dataframe thead th {\n",
       "        text-align: right;\n",
       "    }\n",
       "</style>\n",
       "<table border=\"1\" class=\"dataframe\">\n",
       "  <thead>\n",
       "    <tr style=\"text-align: right;\">\n",
       "      <th></th>\n",
       "      <th>title</th>\n",
       "      <th>score</th>\n",
       "    </tr>\n",
       "    <tr>\n",
       "      <th>id</th>\n",
       "      <th></th>\n",
       "      <th></th>\n",
       "    </tr>\n",
       "  </thead>\n",
       "  <tbody>\n",
       "    <tr>\n",
       "      <th>99</th>\n",
       "      <td>Seeking Human Resources Position</td>\n",
       "      <td>0.961437</td>\n",
       "    </tr>\n",
       "    <tr>\n",
       "      <th>28</th>\n",
       "      <td>Seeking Human Resources Opportunities</td>\n",
       "      <td>0.956862</td>\n",
       "    </tr>\n",
       "    <tr>\n",
       "      <th>30</th>\n",
       "      <td>Seeking Human Resources Opportunities</td>\n",
       "      <td>0.956862</td>\n",
       "    </tr>\n",
       "    <tr>\n",
       "      <th>73</th>\n",
       "      <td>Aspiring Human Resources Manager, seeking inte...</td>\n",
       "      <td>0.932743</td>\n",
       "    </tr>\n",
       "    <tr>\n",
       "      <th>40</th>\n",
       "      <td>Seeking Human Resources HRIS and Generalist Po...</td>\n",
       "      <td>0.929337</td>\n",
       "    </tr>\n",
       "  </tbody>\n",
       "</table>\n",
       "</div>"
      ],
      "text/plain": [
       "                                                title     score\n",
       "id                                                             \n",
       "99                   Seeking Human Resources Position  0.961437\n",
       "28              Seeking Human Resources Opportunities  0.956862\n",
       "30              Seeking Human Resources Opportunities  0.956862\n",
       "73  Aspiring Human Resources Manager, seeking inte...  0.932743\n",
       "40  Seeking Human Resources HRIS and Generalist Po...  0.929337"
      ]
     },
     "execution_count": 13,
     "metadata": {},
     "output_type": "execute_result"
    }
   ],
   "source": [
    "fast_text_ranker.predict(\"seeking human resources\").head()"
   ]
  }
 ],
 "metadata": {
  "kernelspec": {
   "display_name": "Python 3 (ipykernel)",
   "language": "python",
   "name": "python3"
  },
  "language_info": {
   "codemirror_mode": {
    "name": "ipython",
    "version": 3
   },
   "file_extension": ".py",
   "mimetype": "text/x-python",
   "name": "python",
   "nbconvert_exporter": "python",
   "pygments_lexer": "ipython3",
   "version": "3.11.1"
  }
 },
 "nbformat": 4,
 "nbformat_minor": 5
}
